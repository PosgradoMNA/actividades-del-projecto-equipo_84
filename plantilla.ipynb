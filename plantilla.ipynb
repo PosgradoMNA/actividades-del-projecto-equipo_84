{
  "nbformat": 4,
  "nbformat_minor": 0,
  "metadata": {
    "colab": {
      "name": "assignment01.ipynb",
      "provenance": [],
      "toc_visible": true,
      "include_colab_link": true
    },
    "kernelspec": {
      "name": "python3",
      "display_name": "Python 3"
    },
    "language_info": {
      "name": "python"
    }
  },
  "cells": [
    {
      "cell_type": "markdown",
      "metadata": {
        "id": "view-in-github",
        "colab_type": "text"
      },
      "source": [
        "<a href=\"https://colab.research.google.com/github/PosgradoMNA/actividades-del-projecto-equipo_84/blob/main/plantilla.ipynb\" target=\"_parent\"><img src=\"https://colab.research.google.com/assets/colab-badge.svg\" alt=\"Open In Colab\"/></a>"
      ]
    },
    {
      "cell_type": "code",
      "execution_count": null,
      "metadata": {
        "id": "LzUSMM79NR9P",
        "outputId": "0e6cb421-1096-426a-b31a-f61d059def81",
        "colab": {
          "base_uri": "https://localhost:8080/"
        }
      },
      "outputs": [
        {
          "output_type": "stream",
          "name": "stdout",
          "text": [
            "assignment01 for GitJobish03 and edited in git, and 18\n"
          ]
        }
      ],
      "source": [
        "print('assignment01 for GitJobish03 and edited in git, and 18')"
      ]
    },
    {
      "cell_type": "markdown",
      "source": [
        "#**PROYECTO**\n"
      ],
      "metadata": {
        "id": "vNNSSLWqfUz5"
      }
    },
    {
      "cell_type": "markdown",
      "source": [
        "##**ACTIVIDAD 1**"
      ],
      "metadata": {
        "id": "E1VEDMukH5c9"
      }
    },
    {
      "cell_type": "code",
      "source": [
        "#1.Nombre que caracteriza el conjunto de datos\n",
        "##pasajeros movilizados mensualmente en el metro de Medellin Colombia\n",
        "\n",
        "#2.Organización que lo genero\n",
        "##Empresa de Transporte Masivo del Valle de Aburrá\n",
        "\n",
        "#3.Enlace de internet https://datosabiertos-metrodemedellin.opendata.arcgis.com/\n",
        "\n",
        "#4. escribe el conjunto de datos\n",
        "##contiene las siguientes columnas:\n",
        "###Periodo: fecha año xxxx y mes xx, se midió a lo largo del tiempo desde 2011-01 hasta 2019-09\n",
        "###Indice: # del sistema del metro que se utilizó por los pasajeros.\n",
        "###Valor: Número de personas que se transportan en cada sistema durante cada mes.\n",
        "\n",
        "#5. Cuales son las preguntas de investigación que podría responder con estos datos?\n",
        "##¿Cuales las necesidades de movilidad y desplazamientos de los ciudadanos en el metro de medellin, col según el mes del año?\n",
        "##¿Cuales son los motivos y costes relacionados a los desplazamiento de los ciudadanos en el metro de medellin?\n",
        "###el objetivo sería conocer la movilidad de los ciudadanos de la ciudad de medellín colombia para realizar planificaciones más acertadas y a tomar decisiones \n",
        "###más acertadas y a tomar decisiones más utiles para la ciudadanaía\n",
        "\n",
        "#6. ¿Quienes estarían interesados en estas preguntas?\n",
        "##Estaría interesado el departamento de planeación y movilidad de la alcaldía de medellin colombia \n",
        "##y posteriormente se podría replicar a las otras ciudades\n",
        "\n",
        "#7. Entradas\n",
        "#sexo, situación socioeconmica, motivo de desplazamiento, punto de origen y destino, coste de desplazamiento\n",
        "#Movilidad: forma en que se mueve una persona para realizar un desplazamiento viaje entre un origen y otro\n",
        "#afluencia: cantidad de viajeros que acuden a un lugar o sitio determinado para cceder a un medio de transporte\n",
        "#politica tarifaria: conjunto de reglas de cobro, asociadas a la utilización de los medios transporte segun la tarifa por perfil del usuario requerido durante las diferentes etapas del viaje\n",
        "\n",
        "#En espera para subir y usar la base de datos"
      ],
      "metadata": {
        "id": "qGoi3pMgfxsN"
      },
      "execution_count": null,
      "outputs": []
    },
    {
      "cell_type": "code",
      "source": [],
      "metadata": {
        "id": "wMlq77aiSi0-"
      },
      "execution_count": null,
      "outputs": []
    }
  ]
}